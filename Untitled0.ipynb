{
  "nbformat": 4,
  "nbformat_minor": 0,
  "metadata": {
    "colab": {
      "provenance": []
    },
    "kernelspec": {
      "name": "python3",
      "display_name": "Python 3"
    },
    "language_info": {
      "name": "python"
    }
  },
  "cells": [
    {
      "cell_type": "markdown",
      "source": [],
      "metadata": {
        "id": "pmi_9A0YGPXO"
      }
    },
    {
      "cell_type": "markdown",
      "source": [],
      "metadata": {
        "id": "51BxK1klGeW5"
      }
    },
    {
      "cell_type": "code",
      "execution_count": null,
      "metadata": {
        "id": "Cp01p_dcErUf"
      },
      "outputs": [],
      "source": [
        "kj"
      ]
    },
    {
      "cell_type": "code",
      "source": [],
      "metadata": {
        "id": "oAJEbYmDGQ3X"
      },
      "execution_count": null,
      "outputs": []
    }
  ]
}